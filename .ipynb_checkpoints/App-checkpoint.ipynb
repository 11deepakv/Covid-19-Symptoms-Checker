{
 "cells": [
  {
   "cell_type": "code",
   "execution_count": 1,
   "id": "26fad522",
   "metadata": {},
   "outputs": [],
   "source": [
    "from joblib import dump, load\n",
    "from sklearn.pipeline import Pipeline\n",
    "from sklearn.preprocessing import StandardScaler\n",
    "from sklearn.impute import SimpleImputer\n",
    "import numpy as np"
   ]
  },
  {
   "cell_type": "code",
   "execution_count": 2,
   "id": "133dcb68",
   "metadata": {},
   "outputs": [],
   "source": [
    "my_pipeline = Pipeline([\n",
    "    ('imputer', SimpleImputer(strategy='median')),\n",
    "    ('standard_scalr', StandardScaler())\n",
    "])\n",
    "model = load('model')"
   ]
  },
  {
   "cell_type": "code",
   "execution_count": 3,
   "id": "e6ca722b",
   "metadata": {},
   "outputs": [],
   "source": [
    "input = np.array([[ 1., 74.,  0.,  0.,  0.,  0.,  0.,  0.,  0.,  1.,  1.]])\n",
    "input_prep = my_pipeline.fit_transform(input)"
   ]
  },
  {
   "cell_type": "code",
   "execution_count": 6,
   "id": "ae407a8f",
   "metadata": {},
   "outputs": [
    {
     "name": "stdout",
     "output_type": "stream",
     "text": [
      "Percent You having Covid-19 Virus:  79.77741079990354\n"
     ]
    }
   ],
   "source": [
    "print('Percent You having Covid-19 Virus: ',model.predict_proba(input_prep)[0][0]*100)"
   ]
  },
  {
   "cell_type": "code",
   "execution_count": null,
   "id": "71d11379",
   "metadata": {},
   "outputs": [],
   "source": []
  }
 ],
 "metadata": {
  "kernelspec": {
   "display_name": "Python 3",
   "language": "python",
   "name": "python3"
  },
  "language_info": {
   "codemirror_mode": {
    "name": "ipython",
    "version": 3
   },
   "file_extension": ".py",
   "mimetype": "text/x-python",
   "name": "python",
   "nbconvert_exporter": "python",
   "pygments_lexer": "ipython3",
   "version": "3.9.4"
  }
 },
 "nbformat": 4,
 "nbformat_minor": 5
}
